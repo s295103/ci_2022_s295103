{
 "cells": [
  {
   "cell_type": "markdown",
   "metadata": {
    "pycharm": {
     "name": "#%% md\n"
    }
   },
   "source": [
    "Copyright **`(c)`** 2022 Giovanni Squillero `<squillero@polito.it>`  \n",
    "[`https://github.com/squillero/computational-intelligence`](https://github.com/squillero/computational-intelligence)  \n",
    "Free for personal or classroom use; see [`LICENSE.md`](https://github.com/squillero/computational-intelligence/blob/master/LICENSE.md) for details.  \n"
   ]
  },
  {
   "cell_type": "markdown",
   "metadata": {
    "pycharm": {
     "name": "#%%\n"
    }
   },
   "source": [
    "# Lab 3: Policy Search\n",
    "\n",
    "## Task\n",
    "\n",
    "Write agents able to play [*Nim*](https://en.wikipedia.org/wiki/Nim), with an arbitrary number of rows and an upper bound $k$ on the number of objects that can be removed in a turn (a.k.a., *subtraction game*).\n",
    "\n",
    "The goal of the game is to **avoid** taking the last object.\n",
    "\n",
    "* Task3.1: An agent using fixed rules based on *nim-sum* (i.e., an *expert system*)\n",
    "* Task3.2: An agent using evolved rules\n",
    "* Task3.3: An agent using minmax\n",
    "* Task3.4: An agent using reinforcement learning\n",
    "\n",
    "## Instructions\n",
    "\n",
    "* Create the directory `lab3` inside the course repo \n",
    "* Put a `README.md` and your solution (all the files, code and auxiliary data if needed)\n",
    "\n",
    "## Notes\n",
    "\n",
    "* Working in group is not only allowed, but recommended (see: [Ubuntu](https://en.wikipedia.org/wiki/Ubuntu_philosophy) and [Cooperative Learning](https://files.eric.ed.gov/fulltext/EJ1096789.pdf)). Collaborations must be explicitly declared in the `README.md`.\n",
    "* [Yanking](https://www.emacswiki.org/emacs/KillingAndYanking) from the internet is allowed, but sources must be explicitly declared in the `README.md`.\n",
    "\n",
    "**Deadline**\n",
    "\n",
    "T.b.d.\n"
   ]
  },
  {
   "cell_type": "code",
   "execution_count": null,
   "metadata": {},
   "outputs": [],
   "source": [
    "import logging\n",
    "import random"
   ]
  },
  {
   "cell_type": "code",
   "execution_count": 4,
   "metadata": {},
   "outputs": [],
   "source": [
    "class Player:\n",
    "    def __init__(self, name:str, strategy:function):\n",
    "        self._strategy = strategy\n",
    "        self._name = name\n",
    "        self._loser = False\n",
    "\n",
    "    def ply(self, state):\n",
    "        return self._strategy(self, state)\n",
    "    \n",
    "    @property\n",
    "    def loser(self):\n",
    "        return self._loser\n",
    "    \n",
    "    @loser.setter\n",
    "    def loser(self, val):\n",
    "        self._loser = val\n",
    "    \n",
    "    @property\n",
    "    def name(self):\n",
    "        return self._name\n",
    "\n",
    "class Nim:\n",
    "    def __init__(self, num_rows: int, k: int = None) -> None:\n",
    "        self._rows = [i*2 + 1 for i in range(num_rows)]\n",
    "        self._k = k\n",
    "\n",
    "    def nimming(self, row: int, num_objects: int, player:Player) -> None:\n",
    "        assert self._rows[row] >= num_objects\n",
    "        assert self._k is None or num_objects <= self._k\n",
    "        self._rows[row] -= num_objects\n",
    "        if sum(self._rows) == 0:\n",
    "            player.loser = True\n",
    "            logging.info(\"Yeuch\")\n",
    "    \n",
    "    @property\n",
    "    def rows(self):\n",
    "        return self._rows\n",
    "\n",
    "\n",
    "def play(A:Player, B:Player, state:Nim):\n",
    "    n_plies = 0\n",
    "    while not (A.loser or B.loser):\n",
    "        A.ply(state)\n",
    "        if not A.loser:\n",
    "            B.ply(state)\n",
    "        n_plies += 1\n",
    "    if A.loser:\n",
    "        print(f\"{B.name} wins in {n_plies} plies\")\n",
    "    elif B.loser:\n",
    "        print(f\"{A.name} wins in {n_plies} plies\")\n",
    "    \n",
    "def random_strategy(player:Player, heaps:Nim):\n",
    "    idx_heap = random.randint(0, len(heaps.rows)-1)\n",
    "    quantity = random.randint(1, heaps.rows[idx_heap])\n",
    "    heaps.nimming(idx_heap, quantity, player)"
   ]
  },
  {
   "cell_type": "markdown",
   "metadata": {},
   "source": [
    "## Task3.1 NIM-SUM"
   ]
  },
  {
   "cell_type": "code",
   "execution_count": null,
   "metadata": {},
   "outputs": [],
   "source": [
    "def nim_sum(heaps: Nim):\n",
    "    sum = 0\n",
    "    for _, v in enumerate(heaps.rows):\n",
    "        sum ^= v\n",
    "    return sum\n",
    "\n",
    "def nim_sum_strategy(player:Player, heaps: Nim):\n",
    "    n_heaps = len(heaps.rows)\n",
    "    n_heaps_to_zero = len([i for i, h in enumerate(heaps.rows) if h == 0])\n",
    "    n_heaps_to_one = len([i for i, h in enumerate(heaps.rows) if h == 1])\n",
    "    n_heaps_greater_than_zero = n_heaps - n_heaps_to_zero\n",
    "    n_heaps_greater_than_one = n_heaps_greater_than_zero - n_heaps_to_one\n",
    "\n",
    "    # manage particular situations\n",
    "    if n_heaps_greater_than_zero % 2 == 0 and n_heaps_greater_than_one == 1:\n",
    "        # take all objects from the heap with more than 1 object\n",
    "        heaps.nimming(heaps.rows.index(max(heaps.rows)), max(heaps.rows), player)\n",
    "    elif n_heaps_greater_than_one == 1 and n_heaps == 1:\n",
    "        # take all objects but 1 from the last non zero heap with more than 1 object\n",
    "        heaps.nimming(heaps.rows.index(max(heaps.rows)), max(heaps.rows)-1, player)\n",
    "    elif n_heaps_to_one + n_heaps_to_zero == n_heaps:\n",
    "        # take one object from the first heap\n",
    "        heaps.nimming(heaps.rows.index(1), 1, player)\n",
    "    else:  # normal game\n",
    "        x = nim_sum(heaps)\n",
    "        y = [nim_sum([x, h]) for _, h in enumerate(heaps.rows)]\n",
    "        winning_heaps_idxs = [i for i, h in enumerate(heaps.rows) if y[i] < h]\n",
    "        chosen_heap_idx = random.choice(winning_heaps_idxs)\n",
    "        heaps.nimming(chosen_heap_idx, x[chosen_heap_idx]-y[chosen_heap_idx], player)\n",
    "\n"
   ]
  },
  {
   "cell_type": "code",
   "execution_count": null,
   "metadata": {},
   "outputs": [],
   "source": [
    "heaps = Nim(5)\n",
    "Alice = Player(\"Alice\", nim_sum_strategy)\n",
    "Bob = Player(\"Bob\", random_strategy)\n",
    "play(Alice, Bob, heaps)\n"
   ]
  }
 ],
 "metadata": {
  "kernelspec": {
   "display_name": "Python 3 (ipykernel)",
   "language": "python",
   "name": "python3"
  },
  "language_info": {
   "codemirror_mode": {
    "name": "ipython",
    "version": 3
   },
   "file_extension": ".py",
   "mimetype": "text/x-python",
   "name": "python",
   "nbconvert_exporter": "python",
   "pygments_lexer": "ipython3",
   "version": "3.10.6"
  },
  "vscode": {
   "interpreter": {
    "hash": "10197e8e2f2aa67e2c349105091c77f4cd384fce4877865f002d9ec653f96bc0"
   }
  }
 },
 "nbformat": 4,
 "nbformat_minor": 2
}
