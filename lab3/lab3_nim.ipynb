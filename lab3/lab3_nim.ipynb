{
 "cells": [
  {
   "cell_type": "markdown",
   "metadata": {
    "pycharm": {
     "name": "#%% md\n"
    }
   },
   "source": [
    "Copyright **`(c)`** 2022 Giovanni Squillero `<squillero@polito.it>`  \n",
    "[`https://github.com/squillero/computational-intelligence`](https://github.com/squillero/computational-intelligence)  \n",
    "Free for personal or classroom use; see [`LICENSE.md`](https://github.com/squillero/computational-intelligence/blob/master/LICENSE.md) for details.  \n"
   ]
  },
  {
   "cell_type": "markdown",
   "metadata": {
    "pycharm": {
     "name": "#%%\n"
    }
   },
   "source": [
    "# Lab 3: Policy Search\n",
    "\n",
    "## Task\n",
    "\n",
    "Write agents able to play [*Nim*](https://en.wikipedia.org/wiki/Nim), with an arbitrary number of rows and an upper bound $k$ on the number of objects that can be removed in a turn (a.k.a., *subtraction game*).\n",
    "\n",
    "The goal of the game is to **avoid** taking the last object.\n",
    "\n",
    "* Task3.1: An agent using fixed rules based on *nim-sum* (i.e., an *expert system*)\n",
    "* Task3.2: An agent using evolved rules\n",
    "* Task3.3: An agent using minmax\n",
    "* Task3.4: An agent using reinforcement learning\n",
    "\n",
    "## Instructions\n",
    "\n",
    "* Create the directory `lab3` inside the course repo \n",
    "* Put a `README.md` and your solution (all the files, code and auxiliary data if needed)\n",
    "\n",
    "## Notes\n",
    "\n",
    "* Working in group is not only allowed, but recommended (see: [Ubuntu](https://en.wikipedia.org/wiki/Ubuntu_philosophy) and [Cooperative Learning](https://files.eric.ed.gov/fulltext/EJ1096789.pdf)). Collaborations must be explicitly declared in the `README.md`.\n",
    "* [Yanking](https://www.emacswiki.org/emacs/KillingAndYanking) from the internet is allowed, but sources must be explicitly declared in the `README.md`.\n",
    "\n",
    "**Deadline**\n",
    "\n",
    "T.b.d.\n"
   ]
  },
  {
   "cell_type": "code",
   "execution_count": 9,
   "metadata": {},
   "outputs": [],
   "source": [
    "import logging\n",
    "import random\n",
    "import copy"
   ]
  },
  {
   "cell_type": "code",
   "execution_count": 10,
   "metadata": {},
   "outputs": [],
   "source": [
    "N_HEAPS = 5\n",
    "N_GAMES = 100"
   ]
  },
  {
   "cell_type": "code",
   "execution_count": 11,
   "metadata": {},
   "outputs": [],
   "source": [
    "logging.basicConfig(level=logging.INFO)"
   ]
  },
  {
   "cell_type": "code",
   "execution_count": 12,
   "metadata": {},
   "outputs": [],
   "source": [
    "class Player:\n",
    "    def __init__(self, name:str, strategy):\n",
    "        self._strategy = strategy\n",
    "        self._name = name\n",
    "        self._loser = False\n",
    "        self._n_plies = 0\n",
    "    \n",
    "    def ply(self, state):\n",
    "        self._n_plies += 1\n",
    "        return self._strategy(self, state)\n",
    "    \n",
    "    @property\n",
    "    def loser(self):\n",
    "        return self._loser\n",
    "    \n",
    "    @loser.setter\n",
    "    def loser(self, val):\n",
    "        self._loser = val\n",
    "    \n",
    "    @property\n",
    "    def name(self):\n",
    "        return self._name\n",
    "    \n",
    "    @property\n",
    "    def n_plies(self):\n",
    "        return self._n_plies\n",
    "    \n",
    "    @n_plies.setter\n",
    "    def n_plies(self, val):\n",
    "        self._n_plies = val\n",
    "    \n",
    "\n",
    "class Nim:\n",
    "    def __init__(self, num_rows: int, k: int = None) -> None:\n",
    "        self._rows = [i*2 + 1 for i in range(num_rows)]\n",
    "        self._k = k\n",
    "\n",
    "    def nimming(self, row: int, num_objects: int, player:Player) -> None:\n",
    "        assert self._rows[row] >= num_objects\n",
    "        assert self._k is None or num_objects <= self._k\n",
    "        self._rows[row] -= num_objects\n",
    "        if sum(self._rows) == 0:\n",
    "            player.loser = True\n",
    "            #logging.info(\"Yeuch\")\n",
    "    \n",
    "    @property\n",
    "    def rows(self):\n",
    "        return self._rows\n",
    "    \n",
    "    def copy(self):\n",
    "        return copy.deepcopy(self)\n",
    "\n",
    "\n",
    "def play(A:Player, B:Player, state:Nim) -> Player:\n",
    "    logging.debug(f\"{state.rows} : initial state\")\n",
    "    while not (A.loser or B.loser):\n",
    "        A.ply(state)\n",
    "        logging.debug(f\"{state.rows} : state after {A.name} ply\")\n",
    "        if not A.loser:\n",
    "            B.ply(state)\n",
    "            logging.debug(f\"{state.rows} : state after {B.name} ply\")\n",
    "    if A.loser:\n",
    "        return B\n",
    "    elif B.loser:\n",
    "        return A\n",
    "\n",
    "def match(A:Player, B:Player, state:Nim, n_games:int=1):\n",
    "    winners = list()\n",
    "    for i in range(n_games):\n",
    "        initial_state = state.copy()\n",
    "        A.loser = False\n",
    "        B.loser = False\n",
    "        A.n_plies = 0\n",
    "        B.n_plies = 0\n",
    "        w = play(A, B, initial_state)\n",
    "        winners.append((w.name, w.n_plies))\n",
    "    return winners\n",
    "\n",
    "def print_match_result(A:Player, B:Player, res:list):\n",
    "    n_A_win = 0\n",
    "    n_games = len(res)\n",
    "    for i in range(n_games):\n",
    "        if res[i][0] == A.name:\n",
    "            n_A_win += 1\n",
    "    print(f\"{A.name} won {n_A_win} times\\n{B.name} won {n_games - n_A_win} times\") \n",
    "    \n",
    "def random_strategy(player:Player, heaps:Nim, decrement:bool=False):\n",
    "    non_zero_heaps_idxs = [i for i, v in enumerate(heaps.rows) if v > 0] # choose a random non-zero heap\n",
    "    idx_heap = random.choice(non_zero_heaps_idxs)\n",
    "    if decrement:\n",
    "        quantity = 1\n",
    "    else:\n",
    "        quantity = random.randint(1, heaps.rows[idx_heap]) # decrease it of a random quantity\n",
    "    heaps.nimming(idx_heap, quantity, player)\n"
   ]
  },
  {
   "cell_type": "markdown",
   "metadata": {},
   "source": [
    "## Task3.1 Nim-Sum"
   ]
  },
  {
   "cell_type": "code",
   "execution_count": 13,
   "metadata": {},
   "outputs": [],
   "source": [
    "def nim_sum(l:list):\n",
    "    sum = 0\n",
    "    for _, v in enumerate(l):\n",
    "        sum ^= v\n",
    "    return sum\n",
    "\n",
    "def nim_sum_strategy(player:Player, heaps: Nim):\n",
    "    n_heaps = len(heaps.rows)\n",
    "    n_heaps_to_zero = len([i for i, h in enumerate(heaps.rows) if h == 0])\n",
    "    n_heaps_to_one = len([i for i, h in enumerate(heaps.rows) if h == 1])\n",
    "    n_heaps_greater_than_zero = n_heaps - n_heaps_to_zero\n",
    "    n_heaps_greater_than_one = n_heaps_greater_than_zero - n_heaps_to_one\n",
    "\n",
    "    # manage particular situations\n",
    "    if n_heaps_greater_than_zero % 2 == 0 and n_heaps_greater_than_one == 1: #[1, a, 1, 1, 0, 0], a > 1\n",
    "        # take all objects from the heap with more than 1 object\n",
    "        heaps.nimming(heaps.rows.index(max(heaps.rows)), max(heaps.rows), player)\n",
    "    elif n_heaps_greater_than_zero % 2 == 1 and n_heaps_greater_than_one == 1: #[1, a, 1, 0, 0], a > 1\n",
    "        # take all objects but 1 from the heap with more than 1 object\n",
    "        heaps.nimming(heaps.rows.index(max(heaps.rows)), max(heaps.rows)-1, player)\n",
    "    elif n_heaps_greater_than_one == 1 and n_heaps == n_heaps_to_zero + 1: #[a, 0, 0], a > 1\n",
    "        # take all objects but 1 from the last non zero heap with more than 1 object\n",
    "        heaps.nimming(heaps.rows.index(max(heaps.rows)), max(heaps.rows)-1, player)\n",
    "    elif n_heaps_to_one + n_heaps_to_zero == n_heaps:   #[1, 0, 1, 1]\n",
    "        # take one object from the first heap\n",
    "        heaps.nimming(heaps.rows.index(1), 1, player)\n",
    "    elif n_heaps_greater_than_one == 2 and n_heaps_to_zero + 2 == n_heaps: #[0, a, b, 0, ..., 0], a, b > 1, a < b\n",
    "        # reduce the highest heap to the same height as the other\n",
    "        max_heap = max(heaps.rows)\n",
    "        max_heap_idx = heaps.rows.index(max_heap)\n",
    "        min_heap = min(heaps.rows)\n",
    "        heaps.nimming(max_heap_idx, max_heap - min_heap, player )\n",
    "    else:  # normal game\n",
    "        x = nim_sum(heaps.rows)\n",
    "        y = [nim_sum([x, h]) for _, h in enumerate(heaps.rows)]\n",
    "        winning_heaps = [i for i, h in enumerate(heaps.rows) if y[i] < h]\n",
    "        if len(winning_heaps) > 0: # if there's a winning heap\n",
    "            chosen_heap_idx = random.choice(winning_heaps)\n",
    "            heaps.nimming(chosen_heap_idx, heaps.rows[chosen_heap_idx]-y[chosen_heap_idx], player)\n",
    "        else: # take one object from a random heap \n",
    "            random_strategy(player, heaps, decrement=True)"
   ]
  },
  {
   "cell_type": "code",
   "execution_count": 34,
   "metadata": {},
   "outputs": [
    {
     "name": "stdout",
     "output_type": "stream",
     "text": [
      "Alice won 87 times\n",
      "Bob won 13 times\n"
     ]
    }
   ],
   "source": [
    "# trying nim-sum vs random strategy\n",
    "heaps = Nim(N_HEAPS)\n",
    "Alice = Player(\"Alice\", nim_sum_strategy)\n",
    "Bob = Player(\"Bob\", random_strategy)\n",
    "winners = match(Alice, Bob, heaps, N_GAMES)\n",
    "print_match_result(Alice, Bob, winners)\n",
    "\n"
   ]
  },
  {
   "cell_type": "code",
   "execution_count": 33,
   "metadata": {},
   "outputs": [
    {
     "name": "stdout",
     "output_type": "stream",
     "text": [
      "Alice won 76 times\n",
      "Bob won 24 times\n"
     ]
    }
   ],
   "source": [
    "# trying nim-sum vs nim-sum startegy\n",
    "heaps = Nim(N_HEAPS)\n",
    "Alice = Player(\"Alice\", nim_sum_strategy)\n",
    "Bob = Player(\"Bob\", nim_sum_strategy)\n",
    "winners = match(Alice, Bob, heaps, N_GAMES)\n",
    "print_match_result(Alice, Bob, winners)\n"
   ]
  },
  {
   "cell_type": "markdown",
   "metadata": {},
   "source": [
    "## Task3.2 Evolved Rules"
   ]
  },
  {
   "cell_type": "code",
   "execution_count": null,
   "metadata": {},
   "outputs": [],
   "source": []
  },
  {
   "cell_type": "markdown",
   "metadata": {},
   "source": [
    "## Task3.3 MinMax"
   ]
  },
  {
   "cell_type": "code",
   "execution_count": 16,
   "metadata": {},
   "outputs": [],
   "source": [
    "def minmax_strategy(player:Player, heaps:Nim, look_ahead:int=2):\n",
    "    # hash table of states and heuristics\n",
    "    # heuristic function\n",
    "    # game tree class\n",
    "    # minmax algorythm\n",
    "    pass\n",
    "\n"
   ]
  }
 ],
 "metadata": {
  "kernelspec": {
   "display_name": "Python 3.10.6 ('.venv': venv)",
   "language": "python",
   "name": "python3"
  },
  "language_info": {
   "codemirror_mode": {
    "name": "ipython",
    "version": 3
   },
   "file_extension": ".py",
   "mimetype": "text/x-python",
   "name": "python",
   "nbconvert_exporter": "python",
   "pygments_lexer": "ipython3",
   "version": "3.10.6"
  },
  "vscode": {
   "interpreter": {
    "hash": "9736098bae0344245c3be8054c814b256168eeaa5b252fe2e1e318181a993fce"
   }
  }
 },
 "nbformat": 4,
 "nbformat_minor": 2
}
