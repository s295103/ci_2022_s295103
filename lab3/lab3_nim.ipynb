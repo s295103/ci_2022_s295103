{
 "cells": [
  {
   "cell_type": "markdown",
   "metadata": {
    "pycharm": {
     "name": "#%% md\n"
    }
   },
   "source": [
    "Copyright **`(c)`** 2022 Giovanni Squillero `<squillero@polito.it>`  \n",
    "[`https://github.com/squillero/computational-intelligence`](https://github.com/squillero/computational-intelligence)  \n",
    "Free for personal or classroom use; see [`LICENSE.md`](https://github.com/squillero/computational-intelligence/blob/master/LICENSE.md) for details.  \n"
   ]
  },
  {
   "cell_type": "markdown",
   "metadata": {
    "pycharm": {
     "name": "#%%\n"
    }
   },
   "source": [
    "# Lab 3: Policy Search\n",
    "\n",
    "## Task\n",
    "\n",
    "Write agents able to play [*Nim*](https://en.wikipedia.org/wiki/Nim), with an arbitrary number of rows and an upper bound $k$ on the number of objects that can be removed in a turn (a.k.a., *subtraction game*).\n",
    "\n",
    "The goal of the game is to **avoid** taking the last object.\n",
    "\n",
    "* Task3.1: An agent using fixed rules based on *nim-sum* (i.e., an *expert system*)\n",
    "* Task3.2: An agent using evolved rules\n",
    "* Task3.3: An agent using minmax\n",
    "* Task3.4: An agent using reinforcement learning\n",
    "\n",
    "## Instructions\n",
    "\n",
    "* Create the directory `lab3` inside the course repo \n",
    "* Put a `README.md` and your solution (all the files, code and auxiliary data if needed)\n",
    "\n",
    "## Notes\n",
    "\n",
    "* Working in group is not only allowed, but recommended (see: [Ubuntu](https://en.wikipedia.org/wiki/Ubuntu_philosophy) and [Cooperative Learning](https://files.eric.ed.gov/fulltext/EJ1096789.pdf)). Collaborations must be explicitly declared in the `README.md`.\n",
    "* [Yanking](https://www.emacswiki.org/emacs/KillingAndYanking) from the internet is allowed, but sources must be explicitly declared in the `README.md`.\n",
    "\n",
    "**Deadline**\n",
    "\n",
    "T.b.d.\n"
   ]
  },
  {
   "cell_type": "code",
   "execution_count": 83,
   "metadata": {},
   "outputs": [],
   "source": [
    "import logging\n",
    "import random\n",
    "import copy"
   ]
  },
  {
   "cell_type": "code",
   "execution_count": 84,
   "metadata": {},
   "outputs": [],
   "source": [
    "N_HEAPS = 3\n",
    "N_GAMES = 100"
   ]
  },
  {
   "cell_type": "code",
   "execution_count": 85,
   "metadata": {},
   "outputs": [],
   "source": [
    "logging.basicConfig(level=logging.DEBUG)"
   ]
  },
  {
   "cell_type": "code",
   "execution_count": 86,
   "metadata": {},
   "outputs": [],
   "source": [
    "class Player:\n",
    "    def __init__(self, name:str, strategy, *strategy_args):\n",
    "        self._strategy = strategy\n",
    "        self._strategy_args = strategy_args\n",
    "        self._name = name\n",
    "        self._loser = False\n",
    "        self._n_plies = 0\n",
    "    \n",
    "    def ply(self, state):\n",
    "        self._n_plies += 1\n",
    "        return self._strategy(self, state, *self._strategy_args)\n",
    "    \n",
    "    @property\n",
    "    def loser(self):\n",
    "        return self._loser\n",
    "    \n",
    "    @loser.setter\n",
    "    def loser(self, val):\n",
    "        self._loser = val\n",
    "    \n",
    "    @property\n",
    "    def name(self):\n",
    "        return self._name\n",
    "    \n",
    "    @property\n",
    "    def n_plies(self):\n",
    "        return self._n_plies\n",
    "    \n",
    "    @n_plies.setter\n",
    "    def n_plies(self, val):\n",
    "        self._n_plies = val\n",
    "    \n",
    "    def flush_parameters(self):\n",
    "        self._n_plies = 0\n",
    "        self._loser = False\n",
    "\n",
    "class Nim:\n",
    "    def __init__(self, num_rows: int=None, rows:list=None, k: int = None) -> None:\n",
    "        if num_rows is not None:\n",
    "            self._rows = [i*2 + 1 for i in range(num_rows)]\n",
    "        else:\n",
    "            self._rows = rows\n",
    "        self._k = k\n",
    "\n",
    "    def nimming(self, row: int, num_objects: int, player:Player) -> None:\n",
    "        assert self._rows[row] >= num_objects\n",
    "        assert self._k is None or num_objects <= self._k\n",
    "        self._rows[row] -= num_objects\n",
    "        if sum(self._rows) == 0:\n",
    "            player.loser = True\n",
    "            #logging.info(\"Yeuch\")\n",
    "    \n",
    "    @property\n",
    "    def rows(self):\n",
    "        return self._rows\n",
    "    \n",
    "    def copy(self):\n",
    "        return copy.deepcopy(self)\n",
    "\n",
    "\n",
    "def play(A:Player, B:Player, state:Nim) -> Player:\n",
    "    logging.debug(f\"{state.rows} : initial state\")\n",
    "    while not (A.loser or B.loser):\n",
    "        A.ply(state)\n",
    "        logging.debug(f\"{state.rows} : state after {A.name} ply\")\n",
    "        if not A.loser:\n",
    "            B.ply(state)\n",
    "            logging.debug(f\"{state.rows} : state after {B.name} ply\")\n",
    "    if A.loser:\n",
    "        return B\n",
    "    elif B.loser:\n",
    "        return A\n",
    "\n",
    "def match(A:Player, B:Player, state:Nim, n_games:int=1):\n",
    "    winners = list()\n",
    "    for i in range(n_games):\n",
    "        initial_state = state.copy()\n",
    "        A.flush_parameters()\n",
    "        B.flush_parameters()\n",
    "        w = play(A, B, initial_state)\n",
    "        winners.append((w.name, w.n_plies))\n",
    "    return winners\n",
    "\n",
    "def print_match_result(A:Player, B:Player, res:list):\n",
    "    n_A_win = 0\n",
    "    n_games = len(res)\n",
    "    for i in range(n_games):\n",
    "        if res[i][0] == A.name:\n",
    "            n_A_win += 1\n",
    "    print(f\"{A.name} won {n_A_win} times\\n{B.name} won {n_games - n_A_win} times\") \n",
    "    \n",
    "def random_strategy(player:Player, heaps:Nim, decrement:bool=False):\n",
    "    non_zero_heaps_idxs = [i for i, v in enumerate(heaps.rows) if v > 0] # choose a random non-zero heap\n",
    "    idx_heap = random.choice(non_zero_heaps_idxs)\n",
    "    if decrement:\n",
    "        quantity = 1\n",
    "    else:\n",
    "        quantity = random.randint(1, heaps.rows[idx_heap]) # decrease it of a random quantity\n",
    "    heaps.nimming(idx_heap, quantity, player)\n"
   ]
  },
  {
   "cell_type": "markdown",
   "metadata": {},
   "source": [
    "## Task3.1 Nim-Sum"
   ]
  },
  {
   "cell_type": "code",
   "execution_count": 87,
   "metadata": {},
   "outputs": [],
   "source": [
    "def nim_sum(l:list):\n",
    "    sum = 0\n",
    "    for _, v in enumerate(l):\n",
    "        sum ^= v\n",
    "    return sum\n",
    "\n",
    "def nim_sum_strategy(player:Player, heaps: Nim):\n",
    "    if sum(heaps.rows) == 0:\n",
    "        raise Exception(\"There is no heap left!\")\n",
    "        \n",
    "    n_heaps = len(heaps.rows)\n",
    "    n_heaps_to_zero = len([i for i, h in enumerate(heaps.rows) if h == 0])\n",
    "    n_heaps_to_one = len([i for i, h in enumerate(heaps.rows) if h == 1])\n",
    "    n_heaps_greater_than_zero = n_heaps - n_heaps_to_zero\n",
    "    n_heaps_greater_than_one = n_heaps_greater_than_zero - n_heaps_to_one\n",
    "\n",
    "    # manage particular situations\n",
    "    if n_heaps_greater_than_zero % 2 == 0 and n_heaps_greater_than_one == 1: #[1, a, 1, 1, 0, 0], a > 1\n",
    "        # take all objects from the heap with more than 1 object\n",
    "        heaps.nimming(heaps.rows.index(max(heaps.rows)), max(heaps.rows), player)\n",
    "    elif n_heaps_greater_than_zero % 2 == 1 and n_heaps_greater_than_one == 1: #[1, a, 1, 0, 0], a > 1\n",
    "        # take all objects but 1 from the heap with more than 1 object\n",
    "        heaps.nimming(heaps.rows.index(max(heaps.rows)), max(heaps.rows)-1, player)\n",
    "    elif n_heaps_greater_than_one == 1 and n_heaps_to_one == 0: #[a, 0, 0], a > 1\n",
    "        # take all objects but 1 from the last non zero heap with more than 1 object\n",
    "        heaps.nimming(heaps.rows.index(max(heaps.rows)), max(heaps.rows)-1, player)\n",
    "    elif n_heaps_greater_than_one == 0 and n_heaps_to_one > 0:   #[1, 0, 1, 1]\n",
    "        # take one object from the first heap\n",
    "        heaps.nimming(heaps.rows.index(1), 1, player)\n",
    "    elif n_heaps_greater_than_one == 2 and n_heaps_to_one == 0: #[0, a, b, 0, ..., 0], a, b > 1, a < b\n",
    "        # reduce the highest heap to the same height as the other\n",
    "        max_heap = max(heaps.rows)\n",
    "        max_heap_idx = heaps.rows.index(max_heap)\n",
    "        min_heap = min(heaps.rows)\n",
    "        heaps.nimming(max_heap_idx, max_heap - min_heap, player )\n",
    "    else:  # normal game\n",
    "        x = nim_sum(heaps.rows)\n",
    "        y = [nim_sum([x, h]) for _, h in enumerate(heaps.rows)]\n",
    "        winning_heaps = [i for i, h in enumerate(heaps.rows) if y[i] < h]\n",
    "        if len(winning_heaps) > 0: # if there's a winning heap\n",
    "            chosen_heap_idx = random.choice(winning_heaps)\n",
    "            heaps.nimming(chosen_heap_idx, heaps.rows[chosen_heap_idx]-y[chosen_heap_idx], player)\n",
    "        else: # take one object from a random heap \n",
    "            random_strategy(player, heaps, decrement=True)"
   ]
  },
  {
   "cell_type": "code",
   "execution_count": 88,
   "metadata": {},
   "outputs": [
    {
     "name": "stdout",
     "output_type": "stream",
     "text": [
      "Alice won 86 times\n",
      "Bob won 14 times\n"
     ]
    }
   ],
   "source": [
    "# trying nim-sum vs random strategy\n",
    "heaps = Nim(N_HEAPS)\n",
    "Alice = Player(\"Alice\", nim_sum_strategy)\n",
    "Bob = Player(\"Bob\", random_strategy)\n",
    "winners = match(Alice, Bob, heaps, N_GAMES)\n",
    "print_match_result(Alice, Bob, winners)\n",
    "\n"
   ]
  },
  {
   "cell_type": "code",
   "execution_count": 89,
   "metadata": {},
   "outputs": [
    {
     "name": "stdout",
     "output_type": "stream",
     "text": [
      "Alice won 69 times\n",
      "Bob won 31 times\n"
     ]
    }
   ],
   "source": [
    "# trying nim-sum vs nim-sum startegy\n",
    "heaps = Nim(N_HEAPS)\n",
    "Alice = Player(\"Alice\", nim_sum_strategy)\n",
    "Bob = Player(\"Bob\", nim_sum_strategy)\n",
    "winners = match(Alice, Bob, heaps, N_GAMES)\n",
    "print_match_result(Alice, Bob, winners)\n"
   ]
  },
  {
   "cell_type": "markdown",
   "metadata": {},
   "source": [
    "## Task3.2 Evolved Rules"
   ]
  },
  {
   "cell_type": "code",
   "execution_count": null,
   "metadata": {},
   "outputs": [],
   "source": []
  },
  {
   "cell_type": "markdown",
   "metadata": {},
   "source": [
    "## Task3.3 MinMax"
   ]
  },
  {
   "cell_type": "code",
   "execution_count": 90,
   "metadata": {},
   "outputs": [],
   "source": [
    "class GameNode:\n",
    "    def __init__(self, state: list, parent=None, children: list = None):\n",
    "        self._state = state\n",
    "        self._parent = parent\n",
    "        self._children = children\n",
    "        self._value = 0\n",
    "\n",
    "    def __hash__(self):\n",
    "        return hash(bytes(self._state))\n",
    "\n",
    "    @property\n",
    "    def value(self):\n",
    "        return self._value\n",
    "\n",
    "    @value.setter\n",
    "    def value(self, val):\n",
    "        self._value = val\n",
    "\n",
    "    @property\n",
    "    def parent(self):\n",
    "        return self._parent\n",
    "\n",
    "    @parent.setter\n",
    "    def parent(self, val):\n",
    "        self._parent = val\n",
    "\n",
    "    @property\n",
    "    def children(self):\n",
    "        return self._children\n",
    "\n",
    "    def add_child(self, child):\n",
    "        self._children.append(child)\n",
    "\n",
    "    @property\n",
    "    def state(self):\n",
    "        return self._state\n",
    "\n",
    "def heap_distance(node: GameNode):\n",
    "    # the number of plies to the end of the game using a nim-sum strategy\n",
    "    # negative if the player loses, positive if the player wins\n",
    "    this_player = Player(\"this_player\", nim_sum_strategy)\n",
    "    opponent = Player(\"opponent\", nim_sum_strategy)\n",
    "    winner = play(this_player, opponent, Nim(rows=copy.deepcopy(node.state)))\n",
    "    if winner.name == this_player.name:\n",
    "        return winner.n_plies\n",
    "    else:   # the opponent won\n",
    "        return -winner.n_plies\n",
    "\n",
    "\n",
    "def heuristic(node: GameNode, hash_table: dict):\n",
    "    # check if the value of the state has been already computed\n",
    "    h = hash_table.get(node)\n",
    "    if h is None:\n",
    "        h = heap_distance(node)  # heuristic formula\n",
    "        if h == 0:\n",
    "            h = float('inf')\n",
    "        else:\n",
    "            h = 1/h\n",
    "        hash_table[node] = h  # insert in hash_table for later use\n",
    "    return h\n",
    "\n",
    "\n",
    "def minmax(node: GameNode, depth: int, maximising: bool, hash_table: dict):\n",
    "    if depth == 0:\n",
    "        if sum(node.state) == 0: # if the node is a terminal state like [0, 0, 0]\n",
    "            if maximising:\n",
    "                node.value = float('inf') # i won because the opponent had like [0, 1, 0] and took the last object\n",
    "            else:\n",
    "                node.value = -float('inf') # i lost\n",
    "        else:\n",
    "            node.value = heuristic(node, hash_table)\n",
    "        return node.value\n",
    "    if maximising:\n",
    "        node.value = -float('inf')\n",
    "        for c in node.children:\n",
    "            node.value = max(node.value, minmax(c, depth-1, False, hash_table))\n",
    "        return node.value\n",
    "    else:\n",
    "        node.value = float('inf')\n",
    "        for c in node.children:\n",
    "            node.value = min(node.value, minmax(c, depth-1, True, hash_table))\n",
    "        return node.value\n",
    "\n",
    "\n",
    "def game_tree(state: list, parent: GameNode, depth: int) -> GameNode:\n",
    "    this_node = GameNode(state, parent, list())\n",
    "    if depth > 0:\n",
    "        for i in range(len(state)):\n",
    "            # list all the possible new sizes of the heap state[i]\n",
    "            for j in range(state[i]):\n",
    "                child_state = copy.deepcopy(state)\n",
    "                child_state[i] = j\n",
    "                this_node.add_child(game_tree(child_state, this_node, depth-1))\n",
    "    return this_node\n",
    "\n",
    "class MinMaxPlayer(Player):\n",
    "    def __init__(self, name, strategy, look_ahead):\n",
    "        super().__init__(name, strategy)\n",
    "        self._hash_table = {}\n",
    "        self._look_ahead = look_ahead\n",
    "\n",
    "    def flush_parameters(self):\n",
    "        self._hash_table = {}\n",
    "        super().flush_parameters()\n",
    "\n",
    "    @property\n",
    "    def hash_table(self):\n",
    "        return self._hash_table\n",
    "    \n",
    "    @property\n",
    "    def look_ahead(self):\n",
    "        return self._look_ahead\n",
    "\n",
    "def minmax_strategy(player: MinMaxPlayer, heaps: Nim):\n",
    "    depth = player.look_ahead*2  # depth of the tree is the double of plies look ahead\n",
    "\n",
    "    # generate game tree, access it through the root\n",
    "    root = game_tree(heaps.rows, None, depth)\n",
    "\n",
    "    # apply minmax algorithm, return the heuristic value of the action to be taken\n",
    "    chosen_value = minmax(root, depth, True, player.hash_table)\n",
    "\n",
    "    # select actions\n",
    "    viable_children_idxs = [i for i, c in enumerate(\n",
    "        root.children) if c.value == chosen_value]\n",
    "    chosen_child_idx = random.choice(viable_children_idxs)\n",
    "    chosen_child = root.children[chosen_child_idx]\n",
    "\n",
    "    # compute the heap idx and the number of object to take\n",
    "    difference = [i-j for i, j in zip(root.state, chosen_child.state)]\n",
    "    num_objects = max(difference)\n",
    "    chosen_heap = difference.index(num_objects)\n",
    "\n",
    "    # nim the heap\n",
    "    heaps.nimming(chosen_heap, num_objects, player)\n"
   ]
  },
  {
   "cell_type": "code",
   "execution_count": 93,
   "metadata": {},
   "outputs": [
    {
     "name": "stdout",
     "output_type": "stream",
     "text": [
      "Alice won 56 times\n",
      "Bob won 44 times\n"
     ]
    }
   ],
   "source": [
    "# minmax vs random\n",
    "heaps = Nim(N_HEAPS)\n",
    "Alice = MinMaxPlayer(\"Alice\", minmax_strategy, 1)\n",
    "Bob = Player(\"Bob\", random_strategy)\n",
    "winners = match(Alice, Bob, heaps, N_GAMES)\n",
    "print_match_result(Alice, Bob, winners)"
   ]
  },
  {
   "cell_type": "code",
   "execution_count": 96,
   "metadata": {},
   "outputs": [
    {
     "name": "stdout",
     "output_type": "stream",
     "text": [
      "Alice won 49 times\n",
      "Bob won 51 times\n"
     ]
    }
   ],
   "source": [
    "# minmax vs minmax\n",
    "heaps = Nim(N_HEAPS)\n",
    "Alice = MinMaxPlayer(\"Alice\", minmax_strategy, 1)\n",
    "Bob = MinMaxPlayer(\"Bob\", minmax_strategy, 1)\n",
    "winners = match(Alice, Bob, heaps, N_GAMES)\n",
    "print_match_result(Alice, Bob, winners)"
   ]
  },
  {
   "cell_type": "code",
   "execution_count": 99,
   "metadata": {},
   "outputs": [
    {
     "name": "stdout",
     "output_type": "stream",
     "text": [
      "Alice won 0 times\n",
      "Bob won 100 times\n"
     ]
    }
   ],
   "source": [
    "# minmax vs nimsum\n",
    "heaps = Nim(N_HEAPS)\n",
    "Alice = MinMaxPlayer(\"Alice\", minmax_strategy, 2)\n",
    "Bob = Player(\"Bob\", nim_sum_strategy)\n",
    "winners = match(Alice, Bob, heaps, N_GAMES)\n",
    "print_match_result(Alice, Bob, winners)"
   ]
  }
 ],
 "metadata": {
  "kernelspec": {
   "display_name": "Python 3.10.6 ('.venv': venv)",
   "language": "python",
   "name": "python3"
  },
  "language_info": {
   "codemirror_mode": {
    "name": "ipython",
    "version": 3
   },
   "file_extension": ".py",
   "mimetype": "text/x-python",
   "name": "python",
   "nbconvert_exporter": "python",
   "pygments_lexer": "ipython3",
   "version": "3.10.6"
  },
  "vscode": {
   "interpreter": {
    "hash": "9736098bae0344245c3be8054c814b256168eeaa5b252fe2e1e318181a993fce"
   }
  }
 },
 "nbformat": 4,
 "nbformat_minor": 2
}
